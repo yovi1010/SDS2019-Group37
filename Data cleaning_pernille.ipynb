{
 "cells": [
  {
   "cell_type": "code",
   "execution_count": 73,
   "metadata": {},
   "outputs": [],
   "source": [
    "import pandas as pd \n",
    "import numpy as np \n",
    "from langdetect import detect"
   ]
  },
  {
   "cell_type": "markdown",
   "metadata": {},
   "source": [
    "## Get data"
   ]
  },
  {
   "cell_type": "code",
   "execution_count": 74,
   "metadata": {},
   "outputs": [],
   "source": [
    "#data = pd.read_excel('List_Songs-HIPPOP.xlsx')\n",
    "data = pd.read_csv('List_Songs_Lyrics_test2.csv',lineterminator='\\n')"
   ]
  },
  {
   "cell_type": "markdown",
   "metadata": {},
   "source": [
    "# Overview of the rows that are dropped"
   ]
  },
  {
   "cell_type": "code",
   "execution_count": 75,
   "metadata": {
    "scrolled": true
   },
   "outputs": [
    {
     "name": "stdout",
     "output_type": "stream",
     "text": [
      "Initial number of songs 1440\n",
      "After removal of songs with no lyrics 1076\n",
      "Number of remaining songs that are not in English 968\n",
      "Number of songs that are in both genres (and thus removed twice) 358\n"
     ]
    },
    {
     "data": {
      "text/html": [
       "<div>\n",
       "<style scoped>\n",
       "    .dataframe tbody tr th:only-of-type {\n",
       "        vertical-align: middle;\n",
       "    }\n",
       "\n",
       "    .dataframe tbody tr th {\n",
       "        vertical-align: top;\n",
       "    }\n",
       "\n",
       "    .dataframe thead th {\n",
       "        text-align: right;\n",
       "    }\n",
       "</style>\n",
       "<table border=\"1\" class=\"dataframe\">\n",
       "  <thead>\n",
       "    <tr style=\"text-align: right;\">\n",
       "      <th></th>\n",
       "      <th>Lyrics</th>\n",
       "      <th>Title</th>\n",
       "      <th>Year</th>\n",
       "    </tr>\n",
       "  </thead>\n",
       "  <tbody>\n",
       "    <tr>\n",
       "      <td>960</td>\n",
       "      <td>Uh uh uh\\nI just gotta bring it to they attent...</td>\n",
       "      <td>#1</td>\n",
       "      <td>2002</td>\n",
       "    </tr>\n",
       "    <tr>\n",
       "      <td>961</td>\n",
       "      <td>\\n\\nChorus (2x):(Mannie Fresh)\\nAll the nigga...</td>\n",
       "      <td>#1</td>\n",
       "      <td>2002</td>\n",
       "    </tr>\n",
       "    <tr>\n",
       "      <td>962</td>\n",
       "      <td>[Rich Nice] What I want you to understand is...</td>\n",
       "      <td>#1 Player</td>\n",
       "      <td>1995</td>\n",
       "    </tr>\n",
       "    <tr>\n",
       "      <td>963</td>\n",
       "      <td>Nigga can't out-stunt me when it come to these...</td>\n",
       "      <td>#1 Stunna</td>\n",
       "      <td>2000</td>\n",
       "    </tr>\n",
       "    <tr>\n",
       "      <td>964</td>\n",
       "      <td>Girl it's your birthday (birthday) in here (in...</td>\n",
       "      <td>#BDAY</td>\n",
       "      <td>NONE</td>\n",
       "    </tr>\n",
       "    <tr>\n",
       "      <td>...</td>\n",
       "      <td>...</td>\n",
       "      <td>...</td>\n",
       "      <td>...</td>\n",
       "    </tr>\n",
       "    <tr>\n",
       "      <td>1107</td>\n",
       "      <td>Up out of there  Ain't nothin' but a gangsta p...</td>\n",
       "      <td>2 of Amerikaz Most Wanted</td>\n",
       "      <td>1996</td>\n",
       "    </tr>\n",
       "    <tr>\n",
       "      <td>1108</td>\n",
       "      <td>Up out of there  [daz  repeated several times ...</td>\n",
       "      <td>2 of Amerikaz Most Wanted</td>\n",
       "      <td>1998</td>\n",
       "    </tr>\n",
       "    <tr>\n",
       "      <td>1109</td>\n",
       "      <td>Up out of there  Ain't nothin' but a gangsta p...</td>\n",
       "      <td>2 of Amerikaz Most Wanted</td>\n",
       "      <td>2004</td>\n",
       "    </tr>\n",
       "    <tr>\n",
       "      <td>1110</td>\n",
       "      <td>[Snoop Talking]  Up out of there  [Daz  repeat...</td>\n",
       "      <td>2 of Amerikaz Most Wanted</td>\n",
       "      <td>1998</td>\n",
       "    </tr>\n",
       "    <tr>\n",
       "      <td>1111</td>\n",
       "      <td>Up out of there  [daz  repeated several times ...</td>\n",
       "      <td>2 of Amerikaz Most Wanted [Nu-Mixx]</td>\n",
       "      <td>2003</td>\n",
       "    </tr>\n",
       "  </tbody>\n",
       "</table>\n",
       "<p>100 rows × 3 columns</p>\n",
       "</div>"
      ],
      "text/plain": [
       "                                                 Lyrics  \\\n",
       "960   Uh uh uh\\nI just gotta bring it to they attent...   \n",
       "961    \\n\\nChorus (2x):(Mannie Fresh)\\nAll the nigga...   \n",
       "962     [Rich Nice] What I want you to understand is...   \n",
       "963   Nigga can't out-stunt me when it come to these...   \n",
       "964   Girl it's your birthday (birthday) in here (in...   \n",
       "...                                                 ...   \n",
       "1107  Up out of there  Ain't nothin' but a gangsta p...   \n",
       "1108  Up out of there  [daz  repeated several times ...   \n",
       "1109  Up out of there  Ain't nothin' but a gangsta p...   \n",
       "1110  [Snoop Talking]  Up out of there  [Daz  repeat...   \n",
       "1111  Up out of there  [daz  repeated several times ...   \n",
       "\n",
       "                                    Title  Year  \n",
       "960                                    #1  2002  \n",
       "961                                    #1  2002  \n",
       "962                             #1 Player  1995  \n",
       "963                             #1 Stunna  2000  \n",
       "964                                 #BDAY  NONE  \n",
       "...                                   ...   ...  \n",
       "1107            2 of Amerikaz Most Wanted  1996  \n",
       "1108            2 of Amerikaz Most Wanted  1998  \n",
       "1109            2 of Amerikaz Most Wanted  2004  \n",
       "1110            2 of Amerikaz Most Wanted  1998  \n",
       "1111  2 of Amerikaz Most Wanted [Nu-Mixx]  2003  \n",
       "\n",
       "[100 rows x 3 columns]"
      ]
     },
     "execution_count": 75,
     "metadata": {},
     "output_type": "execute_result"
    }
   ],
   "source": [
    "\n",
    "print('Initial number of songs', len(data))\n",
    "\n",
    "data1 = data[data.Lyrics != 'NONE']\n",
    "\n",
    "print('After removal of songs with no lyrics' , len(data1))\n",
    "\n",
    "data2 = data1.loc[data1['Lyrics'].apply(detect) == 'en']\n",
    "print('Number of remaining songs that are not in English', len(data2))\n",
    " \n",
    "# Split into two dataframes by genre    \n",
    "pop_df = data2[['Lyrics','Title','Year']].loc[data2['Genre'] == 'Pop']\n",
    "hiphop_df = data2[['Lyrics','Title','Year']].loc[data2['Genre'] == 'Hip Hop']\n",
    "\n",
    "# Inner join to get the songs that are in both\n",
    "df12 = pd.merge(hiphop_df,pop_df, on=['Title','Year','Lyrics'], how='inner')     #extract common rows with merge\n",
    "final_hiphop = hiphop_df[~hiphop_df['Lyrics'].isin(df12['Lyrics'])]\n",
    "final_pop = pop_df[~pop_df['Lyrics'].isin(df12['Lyrics'])]\n",
    "\n",
    "print('Number of songs that are in both genres (and thus removed twice)',len(df12))\n",
    "\n",
    "final_hiphop.head(100)"
   ]
  },
  {
   "cell_type": "markdown",
   "metadata": {},
   "source": [
    "# Data tidying function"
   ]
  },
  {
   "cell_type": "code",
   "execution_count": 76,
   "metadata": {},
   "outputs": [],
   "source": [
    "import spacy\n",
    "import string\n",
    "from spacy.lang.en.stop_words import STOP_WORDS\n",
    "from spacy.lang.en import English\n",
    "\n",
    "# Create our list of punctuation marks\n",
    "punctuations = string.punctuation\n",
    "\n",
    "# Create our list of stopwords\n",
    "stop_words = spacy.lang.en.stop_words.STOP_WORDS\n",
    "\n",
    "# Load English tokenizer\n",
    "parser = English()\n",
    "\n",
    "# Creating our tokenizer function\n",
    "def spacy_tokenizer(sentence):\n",
    "    # Creating our token object, which is used to create documents with linguistic annotations.\n",
    "    mytokens = parser(sentence)\n",
    "\n",
    "    # Lemmatizing each token and converting each token into lowercase\n",
    "    mytokens = [ word.lemma_.lower().strip() if word.lemma_ != \"-PRON-\" else word.lower_ for word in mytokens ]\n",
    "\n",
    "    # Removing stop words\n",
    "    mytokens = [ word for word in mytokens if word not in stop_words and word not in punctuations ]\n",
    "\n",
    "    # return preprocessed list of tokens\n",
    "    return mytokens"
   ]
  },
  {
   "cell_type": "code",
   "execution_count": 77,
   "metadata": {},
   "outputs": [],
   "source": [
    "def tidy_data(df):\n",
    "    start_len = len(df)\n",
    "    ### Function that takes as input the dataframe and outputs the clean dataframe \n",
    "    \n",
    "    # Drop rows where Lyrics = None\n",
    "    df = df[df.Lyrics != 'NONE']\n",
    "    \n",
    "    # Get genre dummies \n",
    "    dummy=pd.get_dummies(df[\"Genre\"])\n",
    "    df = pd.concat([df, dummy], axis=1)\n",
    "    \n",
    "    # Detect language and drop all rows where language is not English\n",
    "    df['Language'] = df['Lyrics'].apply(detect)\n",
    "    df = df.loc[df['Language'] == 'en']\n",
    "    df = df.drop(['Language'], axis=1)\n",
    "    \n",
    "    # Find lyrics that are in both genres and remove them both \n",
    "    # Split into two dataframes by genre    \n",
    "    pop_df = data2[['Lyrics','Title','Year']].loc[data2['Genre'] == 'Pop']\n",
    "    hiphop_df = data2[['Lyrics','Title','Year']].loc[data2['Genre'] == 'Hip Hop']\n",
    "\n",
    "    # Inner join to get the songs that are in both\n",
    "    df12 = pd.merge(hiphop_df,pop_df, on=['Title','Year','Lyrics'], how='inner')     #extract common rows with merge\n",
    "    final_hiphop = hiphop_df[~hiphop_df['Lyrics'].isin(df12['Lyrics'])]\n",
    "    final_pop = pop_df[~pop_df['Lyrics'].isin(df12['Lyrics'])]\n",
    "    \n",
    "    #Combine\n",
    "    hiphop_pop_concat = pd.concat([final_hiphop,final_pop])\n",
    "    #Put 'Genres' back on\n",
    "    final_df = pd.merge(hiphop_pop_concat,pd.DataFrame(df[['Lyrics','Genre']]),on='Lyrics',how='left')\n",
    "    \n",
    "    #df = df.drop_duplicates(subset=['Lyrics', 'Title', 'Year'], keep=False)\n",
    "    final_df = final_df.drop_duplicates()\n",
    "    \n",
    "    final_df['Year'].replace('NONE',None, inplace=True)\n",
    "    \n",
    "    #Apply tokenizer\n",
    "    final_df['Lyrics'] = final_df['Lyrics'].apply(spacy_tokenizer)\n",
    "    \n",
    "    tidied_len = len(final_df)\n",
    "    print('Function removed', start_len - tidied_len, 'out of', start_len, 'rows')\n",
    "    \n",
    "    return final_df #(df)"
   ]
  },
  {
   "cell_type": "code",
   "execution_count": 78,
   "metadata": {
    "scrolled": true
   },
   "outputs": [
    {
     "name": "stdout",
     "output_type": "stream",
     "text": [
      "Function removed 1141 out of 1440 rows\n"
     ]
    },
    {
     "data": {
      "text/html": [
       "<div>\n",
       "<style scoped>\n",
       "    .dataframe tbody tr th:only-of-type {\n",
       "        vertical-align: middle;\n",
       "    }\n",
       "\n",
       "    .dataframe tbody tr th {\n",
       "        vertical-align: top;\n",
       "    }\n",
       "\n",
       "    .dataframe thead th {\n",
       "        text-align: right;\n",
       "    }\n",
       "</style>\n",
       "<table border=\"1\" class=\"dataframe\">\n",
       "  <thead>\n",
       "    <tr style=\"text-align: right;\">\n",
       "      <th></th>\n",
       "      <th>Lyrics</th>\n",
       "      <th>Title</th>\n",
       "      <th>Year</th>\n",
       "      <th>Genre</th>\n",
       "    </tr>\n",
       "  </thead>\n",
       "  <tbody>\n",
       "    <tr>\n",
       "      <td>0</td>\n",
       "      <td>[uh, uh, uh, bring, attention, dirty, watch, t...</td>\n",
       "      <td>#1</td>\n",
       "      <td>2002</td>\n",
       "      <td>Hip Hop</td>\n",
       "    </tr>\n",
       "    <tr>\n",
       "      <td>1</td>\n",
       "      <td>[chorus, 2x):(mannie, fresh, niggas, buck, buc...</td>\n",
       "      <td>#1</td>\n",
       "      <td>2002</td>\n",
       "      <td>Hip Hop</td>\n",
       "    </tr>\n",
       "    <tr>\n",
       "      <td>2</td>\n",
       "      <td>[rich, nice, want, understand, mackin, big, bu...</td>\n",
       "      <td>#1 Player</td>\n",
       "      <td>1995</td>\n",
       "      <td>Hip Hop</td>\n",
       "    </tr>\n",
       "    <tr>\n",
       "      <td>3</td>\n",
       "      <td>[nigga, stunt, come, f*ckin, car, nigga, belie...</td>\n",
       "      <td>#1 Stunna</td>\n",
       "      <td>2000</td>\n",
       "      <td>Hip Hop</td>\n",
       "    </tr>\n",
       "    <tr>\n",
       "      <td>4</td>\n",
       "      <td>[girl, birthday, birthday, tonight, tonight, g...</td>\n",
       "      <td>#BDAY</td>\n",
       "      <td>2000</td>\n",
       "      <td>Hip Hop</td>\n",
       "    </tr>\n",
       "    <tr>\n",
       "      <td>5</td>\n",
       "      <td>[grind, mode, grind, mode, bitch, grind, mode,...</td>\n",
       "      <td>#Grindmode</td>\n",
       "      <td>2000</td>\n",
       "      <td>Hip Hop</td>\n",
       "    </tr>\n",
       "    <tr>\n",
       "      <td>6</td>\n",
       "      <td>[big, man, talk, hear, weh, yuh, fi, shut, mou...</td>\n",
       "      <td>#Twerkit</td>\n",
       "      <td>2000</td>\n",
       "      <td>Hip Hop</td>\n",
       "    </tr>\n",
       "    <tr>\n",
       "      <td>7</td>\n",
       "      <td>[rich, girl, come, far, know, matt, rely, old,...</td>\n",
       "      <td>$$$ Girlz</td>\n",
       "      <td>2004</td>\n",
       "      <td>Hip Hop</td>\n",
       "    </tr>\n",
       "    <tr>\n",
       "      <td>8</td>\n",
       "      <td>[uh, uh, uh, ready, b, let, 'em, look, young, ...</td>\n",
       "      <td>'03 Bonnie &amp; Clyde</td>\n",
       "      <td>2002</td>\n",
       "      <td>Hip Hop</td>\n",
       "    </tr>\n",
       "    <tr>\n",
       "      <td>14</td>\n",
       "      <td>[uh, uh, uh, ready, b, let, 'em, look, young, ...</td>\n",
       "      <td>'03 Bonnie &amp; Clyde</td>\n",
       "      <td>2003</td>\n",
       "      <td>Hip Hop</td>\n",
       "    </tr>\n",
       "  </tbody>\n",
       "</table>\n",
       "</div>"
      ],
      "text/plain": [
       "                                               Lyrics               Title  \\\n",
       "0   [uh, uh, uh, bring, attention, dirty, watch, t...                  #1   \n",
       "1   [chorus, 2x):(mannie, fresh, niggas, buck, buc...                  #1   \n",
       "2   [rich, nice, want, understand, mackin, big, bu...           #1 Player   \n",
       "3   [nigga, stunt, come, f*ckin, car, nigga, belie...           #1 Stunna   \n",
       "4   [girl, birthday, birthday, tonight, tonight, g...               #BDAY   \n",
       "5   [grind, mode, grind, mode, bitch, grind, mode,...          #Grindmode   \n",
       "6   [big, man, talk, hear, weh, yuh, fi, shut, mou...            #Twerkit   \n",
       "7   [rich, girl, come, far, know, matt, rely, old,...           $$$ Girlz   \n",
       "8   [uh, uh, uh, ready, b, let, 'em, look, young, ...  '03 Bonnie & Clyde   \n",
       "14  [uh, uh, uh, ready, b, let, 'em, look, young, ...  '03 Bonnie & Clyde   \n",
       "\n",
       "    Year    Genre  \n",
       "0   2002  Hip Hop  \n",
       "1   2002  Hip Hop  \n",
       "2   1995  Hip Hop  \n",
       "3   2000  Hip Hop  \n",
       "4   2000  Hip Hop  \n",
       "5   2000  Hip Hop  \n",
       "6   2000  Hip Hop  \n",
       "7   2004  Hip Hop  \n",
       "8   2002  Hip Hop  \n",
       "14  2003  Hip Hop  "
      ]
     },
     "execution_count": 78,
     "metadata": {},
     "output_type": "execute_result"
    }
   ],
   "source": [
    "data = tidy_data(data)\n",
    "data.head(10)"
   ]
  },
  {
   "cell_type": "code",
   "execution_count": 79,
   "metadata": {},
   "outputs": [],
   "source": [
    "\n",
    "#len(data.loc[data['Genre'] == 'Hip Hop'])\n",
    "#len(data.loc[data['Genre'] == 'Pop'])"
   ]
  },
  {
   "cell_type": "markdown",
   "metadata": {},
   "source": [
    "# Descriptive analysis - the year variable"
   ]
  },
  {
   "cell_type": "markdown",
   "metadata": {},
   "source": [
    "Ideas: \n",
    "- Do we swear more now than before? \n",
    "- Do newer songs use more disrespectful language towards women? \n",
    "- Which genres swear more? (obvious...) \n",
    "\n",
    "Calculate avg number of swear words per song.\n",
    "- Get list of swear words \n",
    "- Count how many swear words in each song - store number in new column \n",
    "- avg(number_of_swearwords) group by year, genre \n"
   ]
  },
  {
   "cell_type": "code",
   "execution_count": 95,
   "metadata": {},
   "outputs": [],
   "source": []
  },
  {
   "cell_type": "code",
   "execution_count": 88,
   "metadata": {},
   "outputs": [],
   "source": [
    "# Differences in \n",
    "# Do we swear more now than before? (get list of swear-words and count by year)\n",
    "profanity_url = 'http://www.bannedwordlist.com/lists/swearWords.txt'\n",
    "#profanity = pd.read_csv(profanity_url, header=None, sep = '\\n')\n",
    "\n",
    "import requests\n",
    "\n",
    "profanity = requests.get(profanity_url).text\n",
    "profanity = set(profanity.split('\\r\\n'))\n",
    "\n",
    "extras = {'f*ck','f**k','f*cked','f*ckin','f*cking','nigga', 'niggas', 'b*tch', 'bitches', 'b*tches'}\n",
    "\n",
    "prof = profanity.union(extras)"
   ]
  },
  {
   "cell_type": "code",
   "execution_count": 89,
   "metadata": {},
   "outputs": [],
   "source": [
    "def profanity_check(document, dictionary):\n",
    "    list_match = []\n",
    "    \n",
    "    for word in document: \n",
    "        if word in dictionary:\n",
    "             list_match.append(word)\n",
    "\n",
    "    return len(list_match)\n",
    "    "
   ]
  },
  {
   "cell_type": "code",
   "execution_count": 90,
   "metadata": {},
   "outputs": [
    {
     "data": {
      "text/html": [
       "<div>\n",
       "<style scoped>\n",
       "    .dataframe tbody tr th:only-of-type {\n",
       "        vertical-align: middle;\n",
       "    }\n",
       "\n",
       "    .dataframe tbody tr th {\n",
       "        vertical-align: top;\n",
       "    }\n",
       "\n",
       "    .dataframe thead th {\n",
       "        text-align: right;\n",
       "    }\n",
       "</style>\n",
       "<table border=\"1\" class=\"dataframe\">\n",
       "  <thead>\n",
       "    <tr style=\"text-align: right;\">\n",
       "      <th></th>\n",
       "      <th>Lyrics</th>\n",
       "      <th>Title</th>\n",
       "      <th>Year</th>\n",
       "      <th>Genre</th>\n",
       "      <th>Profanity_count</th>\n",
       "      <th>Year_decade</th>\n",
       "    </tr>\n",
       "  </thead>\n",
       "  <tbody>\n",
       "    <tr>\n",
       "      <td>0</td>\n",
       "      <td>[uh, uh, uh, bring, attention, dirty, watch, t...</td>\n",
       "      <td>#1</td>\n",
       "      <td>2002</td>\n",
       "      <td>Hip Hop</td>\n",
       "      <td>4</td>\n",
       "      <td>2000</td>\n",
       "    </tr>\n",
       "    <tr>\n",
       "      <td>1</td>\n",
       "      <td>[chorus, 2x):(mannie, fresh, niggas, buck, buc...</td>\n",
       "      <td>#1</td>\n",
       "      <td>2002</td>\n",
       "      <td>Hip Hop</td>\n",
       "      <td>19</td>\n",
       "      <td>2000</td>\n",
       "    </tr>\n",
       "    <tr>\n",
       "      <td>2</td>\n",
       "      <td>[rich, nice, want, understand, mackin, big, bu...</td>\n",
       "      <td>#1 Player</td>\n",
       "      <td>1995</td>\n",
       "      <td>Hip Hop</td>\n",
       "      <td>13</td>\n",
       "      <td>1990</td>\n",
       "    </tr>\n",
       "    <tr>\n",
       "      <td>3</td>\n",
       "      <td>[nigga, stunt, come, f*ckin, car, nigga, belie...</td>\n",
       "      <td>#1 Stunna</td>\n",
       "      <td>2000</td>\n",
       "      <td>Hip Hop</td>\n",
       "      <td>51</td>\n",
       "      <td>2000</td>\n",
       "    </tr>\n",
       "    <tr>\n",
       "      <td>4</td>\n",
       "      <td>[girl, birthday, birthday, tonight, tonight, g...</td>\n",
       "      <td>#BDAY</td>\n",
       "      <td>2000</td>\n",
       "      <td>Hip Hop</td>\n",
       "      <td>9</td>\n",
       "      <td>2000</td>\n",
       "    </tr>\n",
       "  </tbody>\n",
       "</table>\n",
       "</div>"
      ],
      "text/plain": [
       "                                              Lyrics      Title  Year  \\\n",
       "0  [uh, uh, uh, bring, attention, dirty, watch, t...         #1  2002   \n",
       "1  [chorus, 2x):(mannie, fresh, niggas, buck, buc...         #1  2002   \n",
       "2  [rich, nice, want, understand, mackin, big, bu...  #1 Player  1995   \n",
       "3  [nigga, stunt, come, f*ckin, car, nigga, belie...  #1 Stunna  2000   \n",
       "4  [girl, birthday, birthday, tonight, tonight, g...      #BDAY  2000   \n",
       "\n",
       "     Genre  Profanity_count  Year_decade  \n",
       "0  Hip Hop                4         2000  \n",
       "1  Hip Hop               19         2000  \n",
       "2  Hip Hop               13         1990  \n",
       "3  Hip Hop               51         2000  \n",
       "4  Hip Hop                9         2000  "
      ]
     },
     "execution_count": 90,
     "metadata": {},
     "output_type": "execute_result"
    }
   ],
   "source": [
    "data['Profanity_count'] = data['Lyrics'].apply(profanity_check, args=[prof])\n",
    "data['Year_decade'] = pd.to_numeric(data['Year'])//10*10\n",
    "\n",
    "data.head()"
   ]
  },
  {
   "cell_type": "code",
   "execution_count": 83,
   "metadata": {},
   "outputs": [],
   "source": [
    "g1 = pd.DataFrame(data.groupby(['Year_decade', 'Genre']).mean()).reset_index()"
   ]
  },
  {
   "cell_type": "code",
   "execution_count": 338,
   "metadata": {},
   "outputs": [
    {
     "data": {
      "image/png": "[encoded data removed]",
      "text/plain": [
       "<Figure size 432x288 with 1 Axes>"
      ]
     },
     "metadata": {
      "needs_background": "light"
     },
     "output_type": "display_data"
    }
   ],
   "source": [
    "# Only continue with songs from 1980's and forth\n",
    "g1 = g1.loc[g1['Year_decade'] >= 1980]\n",
    "\n",
    "# Create bar plot \n",
    "import matplotlib.pyplot as plt \n",
    "\n",
    "g1 = g1[['Genre', 'Year_decade', 'Profanity_count']]\n",
    "\n",
    "ax = g1.pivot('Year_decade','Genre',  'Profanity_count').plot(kind='bar')\n",
    "ax.set_title('Average number of swear words in a song \\n by year and genre')\n",
    "plt.ylabel('Avg number of swearwords per song')\n",
    "plt.xlabel('Decade')\n",
    "plt.xticks(rotation='horizontal')\n",
    "plt.yticks(np.arange(0, 25, step=5))\n",
    "\n",
    "plt.legend(loc=1)\n",
    "plt.show()"
   ]
  },
  {
   "cell_type": "markdown",
   "metadata": {},
   "source": [
    "# Sentiment analysis"
   ]
  },
  {
   "cell_type": "code",
   "execution_count": 105,
   "metadata": {},
   "outputs": [],
   "source": [
    "# Applying dummy for genre\n",
    "\n",
    "dummy=pd.get_dummies(data[\"Genre\"])\n",
    "df = pd.concat([data, dummy], axis=1)"
   ]
  },
  {
   "cell_type": "markdown",
   "metadata": {},
   "source": [
    "### Applying the NRC lexicon from Stanford"
   ]
  },
  {
   "cell_type": "code",
   "execution_count": 93,
   "metadata": {},
   "outputs": [],
   "source": [
    "import pandas as pd\n",
    "import numpy as np\n",
    "filepath = \"http://web.stanford.edu/class/cs124/NRC-emotion-lexicon-wordlevel-alphabetized-v0.92.txt\"\n",
    "lexicon_df = pd.read_csv(filepath,  names=[\"word\", \"emotion\", \"association\"], skiprows=45, sep='\\t')\n",
    "\n",
    "lexicon_word = lexicon_df.pivot(columns='emotion', values='association', index='word') #.reset_index()\n",
    "lexicon_word = lexicon_word[1:]"
   ]
  },
  {
   "cell_type": "markdown",
   "metadata": {},
   "source": [
    "### Creating function to count words by sentiments"
   ]
  },
  {
   "cell_type": "code",
   "execution_count": 94,
   "metadata": {},
   "outputs": [],
   "source": [
    "feeling_set = {k: set(lexicon_word[lexicon_word[k] == 1].index) for k in lexicon_word.columns}\n",
    "\n",
    "def feeling_counter(l):\n",
    "    res = {\n",
    "        \"anger\": 0,\n",
    "        \"anticipation\": 0,\n",
    "        'disgust': 0,\n",
    "        'fear': 0,\n",
    "        'joy': 0, \n",
    "        'negative': 0, \n",
    "        'positive': 0, \n",
    "        'sadness': 0, \n",
    "        'surprise': 0, \n",
    "        'trust': 0\n",
    "     }\n",
    "    for word in l:\n",
    "        for key in res.keys():\n",
    "            if word in feeling_set[key]:\n",
    "                res[key] += 1\n",
    "    return res"
   ]
  },
  {
   "cell_type": "code",
   "execution_count": 95,
   "metadata": {},
   "outputs": [
    {
     "data": {
      "text/plain": [
       "{'anger': 1,\n",
       " 'anticipation': 0,\n",
       " 'disgust': 2,\n",
       " 'fear': 1,\n",
       " 'joy': 0,\n",
       " 'negative': 2,\n",
       " 'positive': 0,\n",
       " 'sadness': 1,\n",
       " 'surprise': 0,\n",
       " 'trust': 0}"
      ]
     },
     "execution_count": 95,
     "metadata": {},
     "output_type": "execute_result"
    }
   ],
   "source": [
    "# Testing\n",
    "feeling_counter([\"disgust\", \"serious\", \"what\", \"gross\"])"
   ]
  },
  {
   "cell_type": "code",
   "execution_count": 96,
   "metadata": {},
   "outputs": [],
   "source": [
    "# Adding the count to the dataframe\n",
    "df2 = pd.concat([df, pd.DataFrame(df[\"Lyrics\"].apply(feeling_counter).tolist())], axis=1)"
   ]
  },
  {
   "cell_type": "markdown",
   "metadata": {},
   "source": [
    "## Investigating the data"
   ]
  },
  {
   "cell_type": "code",
   "execution_count": 97,
   "metadata": {},
   "outputs": [],
   "source": [
    "import matplotlib.pyplot as plt\n",
    "import numpy as np \n",
    "import pandas as pd\n",
    "import seaborn as sns \n",
    "\n",
    "%matplotlib inline "
   ]
  },
  {
   "cell_type": "code",
   "execution_count": 125,
   "metadata": {},
   "outputs": [],
   "source": [
    "# Removing all unnessesary columns for the analysis\n",
    "df_clean=df2.drop(columns='Lyrics')\n",
    "df_clean=df_clean.drop(columns='Title')\n",
    "df_clean=df_clean.drop(columns='Profanity_count')\n"
   ]
  },
  {
   "cell_type": "markdown",
   "metadata": {},
   "source": [
    "### Sentiments: genre"
   ]
  },
  {
   "cell_type": "code",
   "execution_count": 126,
   "metadata": {},
   "outputs": [],
   "source": [
    "# Specifying data for the visuals\n",
    "df_sorted=df_clean.groupby(\"Genre\").mean()\n",
    "df_sentiment1 = df_sorted[[\"anger\", \"anticipation\", \"disgust\", \"fear\", \"joy\", \"sadness\", \"surprise\", \"trust\"]]  \n",
    "df_sentiment_trans=df_sentiment.transpose()\n",
    "\n",
    "# Dividing with the sum to compare\n",
    "sum_hip=sum(df_sentiment_trans[\"Hip Hop\"])\n",
    "# sum_pop=sum(df_sentiment_trans[\"Pop\"])\n",
    "\n",
    "df_sentiment_trans[\"Hip Hop\"]=df_sentiment_trans[\"Hip Hop\"].divide(sum_hip)\n",
    "# df_sentiment_trans[\"Pop\"]=df_sentiment_trans[\"Pop\"].divide(sum_pop)"
   ]
  },
  {
   "cell_type": "code",
   "execution_count": 127,
   "metadata": {},
   "outputs": [
    {
     "data": {
      "image/png": "[encoded data removed]",
      "text/plain": [
       "<Figure size 576x432 with 1 Axes>"
      ]
     },
     "metadata": {
      "needs_background": "light"
     },
     "output_type": "display_data"
    }
   ],
   "source": [
    "# Creating the visuals\n",
    "df_sent = df_sentiment_trans.plot(kind=\"barh\", fontsize=12, grid=True, color=[\"c\", \"#D14E46\"], width=0.8, figsize=(8, 6))\n",
    "df_sent.set_title('Sentiment analysis: genre', fontsize=18)\n",
    "df_sent.set_xlabel('Percentage', fontsize=12)\n",
    "df_sent.figure.savefig('Sentiment_analysis_genre_b')\n",
    "\n",
    "# problem - nogle ord er i flere kasser? er dette et problem?"
   ]
  },
  {
   "cell_type": "markdown",
   "metadata": {},
   "source": [
    "### Sentiments: year"
   ]
  },
  {
   "cell_type": "code",
   "execution_count": 128,
   "metadata": {},
   "outputs": [
    {
     "data": {
      "text/html": [
       "<div>\n",
       "<style scoped>\n",
       "    .dataframe tbody tr th:only-of-type {\n",
       "        vertical-align: middle;\n",
       "    }\n",
       "\n",
       "    .dataframe tbody tr th {\n",
       "        vertical-align: top;\n",
       "    }\n",
       "\n",
       "    .dataframe thead th {\n",
       "        text-align: right;\n",
       "    }\n",
       "</style>\n",
       "<table border=\"1\" class=\"dataframe\">\n",
       "  <thead>\n",
       "    <tr style=\"text-align: right;\">\n",
       "      <th></th>\n",
       "      <th></th>\n",
       "      <th>Hip Hop</th>\n",
       "      <th>anger</th>\n",
       "      <th>anticipation</th>\n",
       "      <th>disgust</th>\n",
       "      <th>fear</th>\n",
       "      <th>joy</th>\n",
       "      <th>negative</th>\n",
       "      <th>positive</th>\n",
       "      <th>sadness</th>\n",
       "      <th>surprise</th>\n",
       "      <th>trust</th>\n",
       "    </tr>\n",
       "    <tr>\n",
       "      <th>Genre</th>\n",
       "      <th>Year_decade</th>\n",
       "      <th></th>\n",
       "      <th></th>\n",
       "      <th></th>\n",
       "      <th></th>\n",
       "      <th></th>\n",
       "      <th></th>\n",
       "      <th></th>\n",
       "      <th></th>\n",
       "      <th></th>\n",
       "      <th></th>\n",
       "      <th></th>\n",
       "    </tr>\n",
       "  </thead>\n",
       "  <tbody>\n",
       "    <tr>\n",
       "      <td rowspan=\"4\" valign=\"top\">Hip Hop</td>\n",
       "      <td>1980.0</td>\n",
       "      <td>1.0</td>\n",
       "      <td>24.571429</td>\n",
       "      <td>18.428571</td>\n",
       "      <td>15.857143</td>\n",
       "      <td>21.428571</td>\n",
       "      <td>19.571429</td>\n",
       "      <td>38.857143</td>\n",
       "      <td>35.142857</td>\n",
       "      <td>14.714286</td>\n",
       "      <td>8.428571</td>\n",
       "      <td>22.714286</td>\n",
       "    </tr>\n",
       "    <tr>\n",
       "      <td>1990.0</td>\n",
       "      <td>1.0</td>\n",
       "      <td>13.822581</td>\n",
       "      <td>13.790323</td>\n",
       "      <td>9.822581</td>\n",
       "      <td>12.290323</td>\n",
       "      <td>15.822581</td>\n",
       "      <td>26.258065</td>\n",
       "      <td>27.870968</td>\n",
       "      <td>10.564516</td>\n",
       "      <td>8.516129</td>\n",
       "      <td>13.306452</td>\n",
       "    </tr>\n",
       "    <tr>\n",
       "      <td>2000.0</td>\n",
       "      <td>1.0</td>\n",
       "      <td>18.053191</td>\n",
       "      <td>13.765957</td>\n",
       "      <td>12.617021</td>\n",
       "      <td>14.819149</td>\n",
       "      <td>14.042553</td>\n",
       "      <td>30.553191</td>\n",
       "      <td>25.021277</td>\n",
       "      <td>13.648936</td>\n",
       "      <td>9.776596</td>\n",
       "      <td>12.297872</td>\n",
       "    </tr>\n",
       "    <tr>\n",
       "      <td>2010.0</td>\n",
       "      <td>1.0</td>\n",
       "      <td>15.716981</td>\n",
       "      <td>13.113208</td>\n",
       "      <td>11.396226</td>\n",
       "      <td>14.773585</td>\n",
       "      <td>12.000000</td>\n",
       "      <td>27.849057</td>\n",
       "      <td>24.339623</td>\n",
       "      <td>12.773585</td>\n",
       "      <td>8.867925</td>\n",
       "      <td>12.509434</td>\n",
       "    </tr>\n",
       "  </tbody>\n",
       "</table>\n",
       "</div>"
      ],
      "text/plain": [
       "                     Hip Hop      anger  anticipation    disgust       fear  \\\n",
       "Genre   Year_decade                                                           \n",
       "Hip Hop 1980.0           1.0  24.571429     18.428571  15.857143  21.428571   \n",
       "        1990.0           1.0  13.822581     13.790323   9.822581  12.290323   \n",
       "        2000.0           1.0  18.053191     13.765957  12.617021  14.819149   \n",
       "        2010.0           1.0  15.716981     13.113208  11.396226  14.773585   \n",
       "\n",
       "                           joy   negative   positive    sadness  surprise  \\\n",
       "Genre   Year_decade                                                         \n",
       "Hip Hop 1980.0       19.571429  38.857143  35.142857  14.714286  8.428571   \n",
       "        1990.0       15.822581  26.258065  27.870968  10.564516  8.516129   \n",
       "        2000.0       14.042553  30.553191  25.021277  13.648936  9.776596   \n",
       "        2010.0       12.000000  27.849057  24.339623  12.773585  8.867925   \n",
       "\n",
       "                         trust  \n",
       "Genre   Year_decade             \n",
       "Hip Hop 1980.0       22.714286  \n",
       "        1990.0       13.306452  \n",
       "        2000.0       12.297872  \n",
       "        2010.0       12.509434  "
      ]
     },
     "execution_count": 128,
     "metadata": {},
     "output_type": "execute_result"
    }
   ],
   "source": [
    "df_year_group=df_clean.groupby([\"Genre\", \"Year_decade\"]).mean()\n",
    "df_year_group"
   ]
  },
  {
   "cell_type": "code",
   "execution_count": 129,
   "metadata": {},
   "outputs": [
    {
     "ename": "KeyError",
     "evalue": "'Genre'",
     "output_type": "error",
     "traceback": [
      "\u001b[1;31m---------------------------------------------------------------------------\u001b[0m",
      "\u001b[1;31mKeyError\u001b[0m                                  Traceback (most recent call last)",
      "\u001b[1;32m~\\Anaconda3\\lib\\site-packages\\pandas\\core\\indexes\\base.py\u001b[0m in \u001b[0;36mget_loc\u001b[1;34m(self, key, method, tolerance)\u001b[0m\n\u001b[0;32m   2896\u001b[0m             \u001b[1;32mtry\u001b[0m\u001b[1;33m:\u001b[0m\u001b[1;33m\u001b[0m\u001b[1;33m\u001b[0m\u001b[0m\n\u001b[1;32m-> 2897\u001b[1;33m                 \u001b[1;32mreturn\u001b[0m \u001b[0mself\u001b[0m\u001b[1;33m.\u001b[0m\u001b[0m_engine\u001b[0m\u001b[1;33m.\u001b[0m\u001b[0mget_loc\u001b[0m\u001b[1;33m(\u001b[0m\u001b[0mkey\u001b[0m\u001b[1;33m)\u001b[0m\u001b[1;33m\u001b[0m\u001b[1;33m\u001b[0m\u001b[0m\n\u001b[0m\u001b[0;32m   2898\u001b[0m             \u001b[1;32mexcept\u001b[0m \u001b[0mKeyError\u001b[0m\u001b[1;33m:\u001b[0m\u001b[1;33m\u001b[0m\u001b[1;33m\u001b[0m\u001b[0m\n",
      "\u001b[1;32mpandas\\_libs\\index.pyx\u001b[0m in \u001b[0;36mpandas._libs.index.IndexEngine.get_loc\u001b[1;34m()\u001b[0m\n",
      "\u001b[1;32mpandas\\_libs\\index.pyx\u001b[0m in \u001b[0;36mpandas._libs.index.IndexEngine.get_loc\u001b[1;34m()\u001b[0m\n",
      "\u001b[1;32mpandas\\_libs\\hashtable_class_helper.pxi\u001b[0m in \u001b[0;36mpandas._libs.hashtable.PyObjectHashTable.get_item\u001b[1;34m()\u001b[0m\n",
      "\u001b[1;32mpandas\\_libs\\hashtable_class_helper.pxi\u001b[0m in \u001b[0;36mpandas._libs.hashtable.PyObjectHashTable.get_item\u001b[1;34m()\u001b[0m\n",
      "\u001b[1;31mKeyError\u001b[0m: 'Genre'",
      "\nDuring handling of the above exception, another exception occurred:\n",
      "\u001b[1;31mKeyError\u001b[0m                                  Traceback (most recent call last)",
      "\u001b[1;32m<ipython-input-129-46765776082c>\u001b[0m in \u001b[0;36m<module>\u001b[1;34m()\u001b[0m\n\u001b[0;32m      1\u001b[0m \u001b[1;31m# Creating visuals for Hip Hop across the years\u001b[0m\u001b[1;33m\u001b[0m\u001b[1;33m\u001b[0m\u001b[1;33m\u001b[0m\u001b[0m\n\u001b[0;32m      2\u001b[0m \u001b[1;33m\u001b[0m\u001b[0m\n\u001b[1;32m----> 3\u001b[1;33m \u001b[0mdf_year_hiphop\u001b[0m\u001b[1;33m=\u001b[0m\u001b[0mdf_year_group\u001b[0m\u001b[1;33m.\u001b[0m\u001b[0mloc\u001b[0m\u001b[1;33m[\u001b[0m\u001b[0mdf_year_group\u001b[0m\u001b[1;33m[\u001b[0m\u001b[1;34m\"Genre\"\u001b[0m\u001b[1;33m]\u001b[0m\u001b[1;33m==\u001b[0m\u001b[1;34m\"Hip Hop\"\u001b[0m\u001b[1;33m]\u001b[0m\u001b[1;33m\u001b[0m\u001b[1;33m\u001b[0m\u001b[0m\n\u001b[0m\u001b[0;32m      4\u001b[0m \u001b[0mdf_year_hip_mean\u001b[0m\u001b[1;33m=\u001b[0m\u001b[0mdf_year_hiphop\u001b[0m\u001b[1;33m.\u001b[0m\u001b[0mgroupby\u001b[0m\u001b[1;33m(\u001b[0m\u001b[1;33m[\u001b[0m\u001b[1;34m\"Year\"\u001b[0m\u001b[1;33m]\u001b[0m\u001b[1;33m)\u001b[0m\u001b[1;33m.\u001b[0m\u001b[0mmean\u001b[0m\u001b[1;33m(\u001b[0m\u001b[1;33m)\u001b[0m\u001b[1;33m\u001b[0m\u001b[1;33m\u001b[0m\u001b[0m\n\u001b[0;32m      5\u001b[0m \u001b[0mdf_year_hip_trans\u001b[0m\u001b[1;33m=\u001b[0m\u001b[0mdf_year_hip_mean\u001b[0m\u001b[1;33m.\u001b[0m\u001b[0mtranspose\u001b[0m\u001b[1;33m(\u001b[0m\u001b[1;33m)\u001b[0m\u001b[1;33m\u001b[0m\u001b[1;33m\u001b[0m\u001b[0m\n",
      "\u001b[1;32m~\\Anaconda3\\lib\\site-packages\\pandas\\core\\frame.py\u001b[0m in \u001b[0;36m__getitem__\u001b[1;34m(self, key)\u001b[0m\n\u001b[0;32m   2978\u001b[0m             \u001b[1;32mif\u001b[0m \u001b[0mself\u001b[0m\u001b[1;33m.\u001b[0m\u001b[0mcolumns\u001b[0m\u001b[1;33m.\u001b[0m\u001b[0mnlevels\u001b[0m \u001b[1;33m>\u001b[0m \u001b[1;36m1\u001b[0m\u001b[1;33m:\u001b[0m\u001b[1;33m\u001b[0m\u001b[1;33m\u001b[0m\u001b[0m\n\u001b[0;32m   2979\u001b[0m                 \u001b[1;32mreturn\u001b[0m \u001b[0mself\u001b[0m\u001b[1;33m.\u001b[0m\u001b[0m_getitem_multilevel\u001b[0m\u001b[1;33m(\u001b[0m\u001b[0mkey\u001b[0m\u001b[1;33m)\u001b[0m\u001b[1;33m\u001b[0m\u001b[1;33m\u001b[0m\u001b[0m\n\u001b[1;32m-> 2980\u001b[1;33m             \u001b[0mindexer\u001b[0m \u001b[1;33m=\u001b[0m \u001b[0mself\u001b[0m\u001b[1;33m.\u001b[0m\u001b[0mcolumns\u001b[0m\u001b[1;33m.\u001b[0m\u001b[0mget_loc\u001b[0m\u001b[1;33m(\u001b[0m\u001b[0mkey\u001b[0m\u001b[1;33m)\u001b[0m\u001b[1;33m\u001b[0m\u001b[1;33m\u001b[0m\u001b[0m\n\u001b[0m\u001b[0;32m   2981\u001b[0m             \u001b[1;32mif\u001b[0m \u001b[0mis_integer\u001b[0m\u001b[1;33m(\u001b[0m\u001b[0mindexer\u001b[0m\u001b[1;33m)\u001b[0m\u001b[1;33m:\u001b[0m\u001b[1;33m\u001b[0m\u001b[1;33m\u001b[0m\u001b[0m\n\u001b[0;32m   2982\u001b[0m                 \u001b[0mindexer\u001b[0m \u001b[1;33m=\u001b[0m \u001b[1;33m[\u001b[0m\u001b[0mindexer\u001b[0m\u001b[1;33m]\u001b[0m\u001b[1;33m\u001b[0m\u001b[1;33m\u001b[0m\u001b[0m\n",
      "\u001b[1;32m~\\Anaconda3\\lib\\site-packages\\pandas\\core\\indexes\\base.py\u001b[0m in \u001b[0;36mget_loc\u001b[1;34m(self, key, method, tolerance)\u001b[0m\n\u001b[0;32m   2897\u001b[0m                 \u001b[1;32mreturn\u001b[0m \u001b[0mself\u001b[0m\u001b[1;33m.\u001b[0m\u001b[0m_engine\u001b[0m\u001b[1;33m.\u001b[0m\u001b[0mget_loc\u001b[0m\u001b[1;33m(\u001b[0m\u001b[0mkey\u001b[0m\u001b[1;33m)\u001b[0m\u001b[1;33m\u001b[0m\u001b[1;33m\u001b[0m\u001b[0m\n\u001b[0;32m   2898\u001b[0m             \u001b[1;32mexcept\u001b[0m \u001b[0mKeyError\u001b[0m\u001b[1;33m:\u001b[0m\u001b[1;33m\u001b[0m\u001b[1;33m\u001b[0m\u001b[0m\n\u001b[1;32m-> 2899\u001b[1;33m                 \u001b[1;32mreturn\u001b[0m \u001b[0mself\u001b[0m\u001b[1;33m.\u001b[0m\u001b[0m_engine\u001b[0m\u001b[1;33m.\u001b[0m\u001b[0mget_loc\u001b[0m\u001b[1;33m(\u001b[0m\u001b[0mself\u001b[0m\u001b[1;33m.\u001b[0m\u001b[0m_maybe_cast_indexer\u001b[0m\u001b[1;33m(\u001b[0m\u001b[0mkey\u001b[0m\u001b[1;33m)\u001b[0m\u001b[1;33m)\u001b[0m\u001b[1;33m\u001b[0m\u001b[1;33m\u001b[0m\u001b[0m\n\u001b[0m\u001b[0;32m   2900\u001b[0m         \u001b[0mindexer\u001b[0m \u001b[1;33m=\u001b[0m \u001b[0mself\u001b[0m\u001b[1;33m.\u001b[0m\u001b[0mget_indexer\u001b[0m\u001b[1;33m(\u001b[0m\u001b[1;33m[\u001b[0m\u001b[0mkey\u001b[0m\u001b[1;33m]\u001b[0m\u001b[1;33m,\u001b[0m \u001b[0mmethod\u001b[0m\u001b[1;33m=\u001b[0m\u001b[0mmethod\u001b[0m\u001b[1;33m,\u001b[0m \u001b[0mtolerance\u001b[0m\u001b[1;33m=\u001b[0m\u001b[0mtolerance\u001b[0m\u001b[1;33m)\u001b[0m\u001b[1;33m\u001b[0m\u001b[1;33m\u001b[0m\u001b[0m\n\u001b[0;32m   2901\u001b[0m         \u001b[1;32mif\u001b[0m \u001b[0mindexer\u001b[0m\u001b[1;33m.\u001b[0m\u001b[0mndim\u001b[0m \u001b[1;33m>\u001b[0m \u001b[1;36m1\u001b[0m \u001b[1;32mor\u001b[0m \u001b[0mindexer\u001b[0m\u001b[1;33m.\u001b[0m\u001b[0msize\u001b[0m \u001b[1;33m>\u001b[0m \u001b[1;36m1\u001b[0m\u001b[1;33m:\u001b[0m\u001b[1;33m\u001b[0m\u001b[1;33m\u001b[0m\u001b[0m\n",
      "\u001b[1;32mpandas\\_libs\\index.pyx\u001b[0m in \u001b[0;36mpandas._libs.index.IndexEngine.get_loc\u001b[1;34m()\u001b[0m\n",
      "\u001b[1;32mpandas\\_libs\\index.pyx\u001b[0m in \u001b[0;36mpandas._libs.index.IndexEngine.get_loc\u001b[1;34m()\u001b[0m\n",
      "\u001b[1;32mpandas\\_libs\\hashtable_class_helper.pxi\u001b[0m in \u001b[0;36mpandas._libs.hashtable.PyObjectHashTable.get_item\u001b[1;34m()\u001b[0m\n",
      "\u001b[1;32mpandas\\_libs\\hashtable_class_helper.pxi\u001b[0m in \u001b[0;36mpandas._libs.hashtable.PyObjectHashTable.get_item\u001b[1;34m()\u001b[0m\n",
      "\u001b[1;31mKeyError\u001b[0m: 'Genre'"
     ]
    }
   ],
   "source": [
    "# Creating visuals for Hip Hop across the years\n",
    "\n",
    "df_year_hiphop=df_year_group.loc[df_year_group[\"Genre\"]==\"Hip Hop\"]\n",
    "df_year_hip_mean=df_year_hiphop.groupby([\"Year\"]).mean()\n",
    "df_year_hip_trans=df_year_hip_mean.transpose()\n",
    "\n",
    "df_sent2 = df_year_hip_trans.plot(fontsize=12, grid=True, figsize=(8, 6))\n",
    "df_sent2.set_title(' Hiphop sentiment analysis: years', fontsize=18)\n",
    "df_sent2.set_ylabel('Number of words', fontsize=12)\n",
    "df_sent2.figure.savefig('Sentiment_analysis_years_hiphop')\n",
    "df_sent2.tick_params(axis='x', labelrotation=70)\n",
    "\n",
    "# https://htmlcolorcodes.com/    <-- Hjemmeside til farver"
   ]
  },
  {
   "cell_type": "code",
   "execution_count": null,
   "metadata": {},
   "outputs": [],
   "source": [
    "# Creating visuals for Rock across the years\n",
    "df_year_rock=df_year_group.loc[df_year_group[\"Genre\"]==\"Rock\"]\n",
    "df_year_rock_mean=df_year_rock.groupby([\"Year\"]).mean()\n",
    "df_year_rock_trans=df_year_rock_mean.transpose()\n",
    "\n",
    "df_sent3 = df_year_rock_trans.plot(fontsize=12, grid=True, figsize=(8, 6))\n",
    "df_sent3.set_title('Rock sentiment analysis: years', fontsize=18)\n",
    "df_sent3.set_ylabel('Number of words', fontsize=12)\n",
    "df_sent3.figure.savefig('Sentiment_analysis_years_rock')\n",
    "df_sent3.tick_params(axis='x', labelrotation=70)\n",
    "\n",
    "# https://htmlcolorcodes.com/    <-- Hjemmeside til farver"
   ]
  },
  {
   "cell_type": "code",
   "execution_count": null,
   "metadata": {},
   "outputs": [],
   "source": [
    "# Adding the two figures together\n",
    "fig, axes = plt.subplots(1,2)\n",
    "\n",
    "a = df_year_hip_trans.plot(fontsize=12, grid=True, figsize=(8, 6))\n",
    "a.set_title('Rock sentiment analysis: years', fontsize=18)\n",
    "a.set_ylabel('Number of words', fontsize=12)\n",
    "a.tick_params(axis='x', labelrotation=70)\n",
    "\n",
    "b = df_year_rock_trans.plot(fontsize=12, grid=True, figsize=(8, 6))\n",
    "b.set_ylabel('Number of words', fontsize=12)\n",
    "b.tick_params(axis='x', labelrotation=70)"
   ]
  }
 ],
 "metadata": {
  "kernelspec": {
   "display_name": "Python 3",
   "language": "python",
   "name": "python3"
  },
  "language_info": {
   "codemirror_mode": {
    "name": "ipython",
    "version": 3
   },
   "file_extension": ".py",
   "mimetype": "text/x-python",
   "name": "python",
   "nbconvert_exporter": "python",
   "pygments_lexer": "ipython3",
   "version": "3.7.3"
  }
 },
 "nbformat": 4,
 "nbformat_minor": 2
}
