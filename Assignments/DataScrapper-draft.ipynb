{
 "cells": [
  {
   "cell_type": "code",
   "execution_count": 1,
   "metadata": {},
   "outputs": [
    {
     "data": {
      "text/plain": [
       "48"
      ]
     },
     "execution_count": 1,
     "metadata": {},
     "output_type": "execute_result"
    }
   ],
   "source": [
    "import requests \n",
    "from bs4 import BeautifulSoup\n",
    "\n",
    "page_list = []\n",
    "\n",
    "for i in range(1,3):\n",
    "    page_list.append(\"https://www.lyrics.com/genres.php?genre=%s&p=%s\" % (\"Pop\", str(i)))  #define genre manually.\n",
    "\n",
    "\n",
    "url_text = []\n",
    "base = 'https://www.lyrics.com'\n",
    "lyrics_database= []\n",
    "\n",
    "for page in page_list:\n",
    "    url = page\n",
    "    r = requests.get( url )\n",
    "    soup = BeautifulSoup(r.text, 'html')\n",
    "    lyrics = soup.find_all(\"p\", {'class': 'lyric-meta-title'})\n",
    "    for i in range(len(lyrics)):\n",
    "        lyric_url =  lyrics[i].a.attrs['href']\n",
    "        url_text.append(base + lyric_url)\n",
    "                \n",
    "                         \n",
    "                          \n",
    "                          \n",
    "len(url_text)    \n",
    "       "
   ]
  },
  {
   "cell_type": "code",
   "execution_count": 21,
   "metadata": {},
   "outputs": [],
   "source": [
    "\n",
    "\n",
    "list_text = [] # initialize a list to store all the lyrics\n",
    "list_title_songs = [] #initialise a list to store all the titles of the songs\n",
    "list_year_songs = [] \n",
    "\n",
    "\n",
    "\n",
    "for url in url_text:\n",
    "   \n",
    "    try:\n",
    "        r = requests.get(url)\n",
    "        soup = BeautifulSoup(r.text, 'html.parser')\n",
    "\n",
    "        list_text.append(soup.find('pre',{\"id\" : 'lyric-body-text'}).text.replace(\"\\r\\n\",\" \").replace(\",\", \"\"))\n",
    "        list_year_songs.append(soup.find('dd',{'class' : 'dd-margin'}).text)\n",
    "        list_title_songs.append(soup.find(\"h1\",{'id' : 'lyric-title-text'}).text)\n",
    "    except:\n",
    "        pass\n",
    "\n",
    "\n",
    "   \n",
    "    \n",
    "        "
   ]
  },
  {
   "cell_type": "code",
   "execution_count": 30,
   "metadata": {},
   "outputs": [],
   "source": [
    "import pandas as pd\n",
    "\n",
    "df = pd.DataFrame(list(zip(list_title_songs,list_text,list_year_songs)), columns = ['Title', 'Lyrics', 'Year'])\n",
    "df.tail()\n",
    "\n",
    "\n",
    "export_csv = df.to_csv(\"List_Songs.csv\")\n",
    "\n",
    "\n"
   ]
  },
  {
   "cell_type": "code",
   "execution_count": null,
   "metadata": {},
   "outputs": [],
   "source": []
  },
  {
   "cell_type": "code",
   "execution_count": null,
   "metadata": {},
   "outputs": [],
   "source": []
  },
  {
   "cell_type": "code",
   "execution_count": null,
   "metadata": {},
   "outputs": [],
   "source": []
  },
  {
   "cell_type": "code",
   "execution_count": null,
   "metadata": {},
   "outputs": [],
   "source": []
  },
  {
   "cell_type": "code",
   "execution_count": null,
   "metadata": {},
   "outputs": [],
   "source": []
  },
  {
   "cell_type": "code",
   "execution_count": null,
   "metadata": {},
   "outputs": [],
   "source": []
  }
 ],
 "metadata": {
  "kernelspec": {
   "display_name": "Python 3",
   "language": "python",
   "name": "python3"
  },
  "language_info": {
   "codemirror_mode": {
    "name": "ipython",
    "version": 3
   },
   "file_extension": ".py",
   "mimetype": "text/x-python",
   "name": "python",
   "nbconvert_exporter": "python",
   "pygments_lexer": "ipython3",
   "version": "3.7.3"
  }
 },
 "nbformat": 4,
 "nbformat_minor": 2
}
