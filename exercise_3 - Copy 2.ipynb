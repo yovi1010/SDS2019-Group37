{
 "cells": [
  {
   "cell_type": "markdown",
   "metadata": {},
   "source": [
    "# Exercise Set 3: Strings, requests and APIs\n",
    "\n",
    "*Morning, August 13, 2019*\n",
    "\n",
    "In this exercise set you will be working with collecting from the web. We will start out with some basic string operations and build on that to make a query for fetching data.\n",
    "\n",
    "In addition to DataCamp, you might find [this page](https://pythonprogramming.net/string-concatenation-formatting-intermediate-python-tutorial/) on pythonprogramming.net useful. [This page](https://www.python-course.eu/python3_sequential_data_types.php) give an introduction to the basics of strings and their related data types. "
   ]
  },
  {
   "cell_type": "markdown",
   "metadata": {},
   "source": [
    "## Exercise Section 3.1: Basic string operations and dictionaries"
   ]
  },
  {
   "cell_type": "markdown",
   "metadata": {},
   "source": [
    "Strings have multiple operations and functions associated. In this exercise we investigate a few of these. We also explore the sequence form of a string and how it can be sliced and accessed via indices.\n",
    "\n",
    "> **Ex. 3.1.1**: Let `s1='Chameleon'` and `s2='ham'`. Check whether the string `s2` is a substring of `s1`. Is `'hello'` a substring `'goodbye'`?\n",
    "\n",
    "> *Hint*: One string operation is to check whether a string `S` contains a substring `T`, this can be done with the `in` operator: `S in T`. "
   ]
  },
  {
   "cell_type": "code",
   "execution_count": 4,
   "metadata": {},
   "outputs": [
    {
     "name": "stdout",
     "output_type": "stream",
     "text": [
      "True\n",
      "False\n"
     ]
    }
   ],
   "source": [
    "# [Answer to Ex. 3.1.1]\n",
    "\n",
    "s1='Chameleon'\n",
    "s2='ham'\n",
    "\n",
    "print(s2 in s1)\n",
    "print(\"hello\" in 'goodbye')\n"
   ]
  },
  {
   "cell_type": "markdown",
   "metadata": {},
   "source": [
    "> **Ex. 3.1.2**: From the string `s1` select the last four characters. What is the index of the character `a` in `s1`?\n",
    "\n",
    "> *Hint*: We can selecting a substring by slicing it with the `[]` notation, from the start to end where start is included and end is excluded. Recall that Python has zero-based indexing, see explanation [here](https://softwareengineering.stackexchange.com/questions/110804/why-are-zero-based-arrays-the-norm).\n"
   ]
  },
  {
   "cell_type": "code",
   "execution_count": 7,
   "metadata": {},
   "outputs": [
    {
     "data": {
      "text/plain": [
       "2"
      ]
     },
     "execution_count": 7,
     "metadata": {},
     "output_type": "execute_result"
    }
   ],
   "source": [
    "# [Answer to Ex. 3.1.2]\n",
    "print(s1[-4:])\n",
    "print(s1.index('a'))\n"
   ]
  },
  {
   "cell_type": "markdown",
   "metadata": {},
   "source": [
    "In addition to the techniques above strings are equipped with an array of _methods_, for solving more complex tasks. For example the `str.join(list)` method will insert a string in between each element of a list. Oppositely `str1.split(str2)` splits `str1` into a list. `.strip()` removes spaces in the beginning and end of a word and `.format()` fills in specified blanks in a string.  Below we illustrate the use of each function\n",
    "\n",
    "```python\n",
    ">>> ','.join(['a','b']) \n",
    "'a,b'\n",
    "\n",
    ">>> ' Hello World! '.strip() \n",
    "'Hello World!'\n",
    "\n",
    ">>> 'Hello {w}'.format(w='World!') \n",
    "'Hello World!'\n",
    "\n",
    ">>> 'a,b,c'.split(',') \n",
    "['a','b','c']\n",
    "```"
   ]
  },
  {
   "cell_type": "markdown",
   "metadata": {},
   "source": [
    "> **Ex. 3.1.3:** Let `l1 = ['r ', 'Is', '>', ' < ', 'g ', '?']`. Create from `l1` the sentence \"Is r > g?\" using your knowledge about string formatting. Make sure there is only one space in between worlds.\n",
    ">\n",
    ">> _Hint:_ You should be able to combine the above informations to solve this exercise."
   ]
  },
  {
   "cell_type": "code",
   "execution_count": 26,
   "metadata": {},
   "outputs": [
    {
     "data": {
      "text/plain": [
       "'Is r > g'"
      ]
     },
     "execution_count": 26,
     "metadata": {},
     "output_type": "execute_result"
    }
   ],
   "source": [
    "# [Answer to Ex. 3.1.3]\n",
    "l1 = ['r ', 'Is', '>', ' < ', 'g ', '?']\n",
    "str1 = \"\".join(l1[1]+\" \"+l1[0].strip()+\" \"+l1[2]+\" \"+ l1[4].strip())\n",
    "str1"
   ]
  },
  {
   "cell_type": "markdown",
   "metadata": {},
   "source": [
    "### Dictionaries\n",
    "\n",
    "Dictionaries (or simply dicts) are a central building block of python. Python dicts are constructed from pairs of keys and values making them extremely versatile for data storage. Furthermore dicts correspond directly to the json file format.  \n",
    "\n",
    "> **Ex. 3.1.4**: Create an empty dictionary `words` using the `dict()`function. Then add each of the words in `['animal', 'coffee', 'python', 'unit', 'knowledge', 'tread', 'arise']` as a key, with the value being a boolean indicator for whether the word begins with a vowel. The results should look like `{'bacon': False, 'asynchronous': True ...}`\n",
    ">\n",
    ">> _Hint:_ You might want co first construct a function that asseses whether a given word begins with a vowel or not."
   ]
  },
  {
   "cell_type": "code",
   "execution_count": 29,
   "metadata": {},
   "outputs": [
    {
     "name": "stdout",
     "output_type": "stream",
     "text": [
      "{'animal': True, 'coffee': False, 'python': False, 'unit': True, 'knowledge': False, 'tread': False, 'arise': True}\n"
     ]
    }
   ],
   "source": [
    "# [Answer to Ex. 3.1.4]\n",
    "def isVowel(putString):\n",
    "    all_vowels = 'aeiou'\n",
    "    return putString[0] in all_vowels\n",
    "\n",
    "words = {}    #words = dict()\n",
    "\n",
    "myList = ['animal', 'coffee', 'python', 'unit', 'knowledge', 'tread', 'arise']\n",
    "\n",
    "for i in myList:\n",
    "        words[i] = isVowel(i)\n",
    "print(words)\n",
    "\n",
    "\n",
    "\n"
   ]
  },
  {
   "cell_type": "markdown",
   "metadata": {},
   "source": [
    "> **Ex. 3.1.5:** Loop through the dictionary `words`. In each iteration you should print a proper sentence stating if the current word begins with a vowel or not. \n",
    "\n",
    "> _Hint:_ You can loop through both keys and values simultaneously with the `.items()` method. [This](https://www.tutorialspoint.com/python/python_dictionary.htm) might help you."
   ]
  },
  {
   "cell_type": "code",
   "execution_count": 36,
   "metadata": {},
   "outputs": [
    {
     "name": "stdout",
     "output_type": "stream",
     "text": [
      "It STARTS\n",
      "IT DOESNT START\n",
      "IT DOESNT START\n",
      "It STARTS\n",
      "IT DOESNT START\n",
      "IT DOESNT START\n",
      "It STARTS\n",
      "The word  animal  starts with a vowel.\n",
      "The word  coffee  does not start wit a vowel.\n",
      "The word  python  does not start wit a vowel.\n",
      "The word  unit  starts with a vowel.\n",
      "The word  knowledge  does not start wit a vowel.\n",
      "The word  tread  does not start wit a vowel.\n",
      "The word  arise  starts with a vowel.\n"
     ]
    }
   ],
   "source": [
    "# [Answer to Ex. 3.1.5]\n",
    "\n",
    "for k,v in words.items():\n",
    "    \n",
    "    if v == True:\n",
    "        \n",
    "        print(\"It STARTS\")\n",
    "        \n",
    "    else:\n",
    "        \n",
    "        print(\"IT DOESNT START\")\n",
    "############################################################\n",
    "for i in words:\n",
    "    \n",
    "    if words[i] == True:\n",
    "        print (\"The word \",i,\" starts with a vowel.\")\n",
    "    \n",
    "    else: \n",
    "        print(\"The word \",i,\" does not start wit a vowel.\")\n",
    "\n"
   ]
  },
  {
   "cell_type": "markdown",
   "metadata": {},
   "source": [
    "<br>\n",
    "\n",
    "## Exercise Section 3.2: The punk API\n",
    "The [punk API](https://punkapi.com/) serves information about _beers_. It is a well made and well documented API which makes it great for learning about APIs. \n",
    "\n",
    "> **Ex. 3.2.1:** Read the documentation on the Punk API available [here](https://punkapi.com/documentation/v2). What is the server url (i.e. root endpoint) of the Punk API? Does it require authentication? Then use the Punk API to make a request for beers brewed before December, 2008 with an ABV of at least 8."
   ]
  },
  {
   "cell_type": "code",
   "execution_count": 4,
   "metadata": {},
   "outputs": [],
   "source": [
    "# [Answer to Ex. 3.2.1]\n",
    "import requests\n",
    "\n",
    "url = \"https://api.punkapi.com/v2/beers?brewed_before=12-2008&abv_gt=8\"\n",
    "resp = requests.get(url)\n",
    "resp.ok\n",
    "\n",
    "\n",
    "data = resp.json()\n"
   ]
  },
  {
   "cell_type": "markdown",
   "metadata": {},
   "source": [
    "> **Ex. 3.2.2:** What object type is the API's JSON response? What about the individual items in the container? Convert the response object to a suitable format and answer the following questions:\n",
    ">> 1) How many beers are in the JSON object?\n",
    ">>\n",
    ">> 2) Print the names of the beers in the JSON object using lower case characters.\n",
    ">>\n",
    ">> 3) Select the beer called Paradox Islay from the JSON object.\n",
    ">>\n",
    ">> 4) Which hop ingredients does the Paradox Islay contain?\n"
   ]
  },
  {
   "cell_type": "code",
   "execution_count": 112,
   "metadata": {},
   "outputs": [
    {
     "name": "stdout",
     "output_type": "stream",
     "text": [
      "zephyr, paradox islay, coffee imperial stout, ab:03, \n",
      "Columbus\n",
      "Columbus\n",
      "Saaz\n",
      "First Gold\n",
      "{'Columbus', 'First Gold', 'Saaz'}\n"
     ]
    }
   ],
   "source": [
    "# [Answer to Ex. 3.2.2]\n",
    "# list of dicts\n",
    "\n",
    "#1\n",
    "len(data)\n",
    "\n",
    "#2\n",
    "for i in data:\n",
    "    print(i['name'].lower(), end =\", \")\n",
    "\n",
    "print()\n",
    "\n",
    "import pprint\n",
    "\n",
    "#pprint.pprint(data[1]['ingredients'][\"hops\"])\n",
    "\n",
    "#3 + 4\n",
    "ingredients = set()\n",
    "\n",
    "for i in data[1]['ingredients'][\"hops\"]:\n",
    "        ingredients.add(i[\"name\"])\n",
    "        #print (i[\"name\"])\n",
    "\n",
    "print(ingredients)"
   ]
  },
  {
   "cell_type": "markdown",
   "metadata": {},
   "source": [
    "> **Ex. 3.2.3:** Save the beers as a JSON file on your machine.\n",
    "\n",
    "> _Hint:_ you might want to take a look at the [json](https://docs.python.org/3/library/json.html) module.\n"
   ]
  },
  {
   "cell_type": "code",
   "execution_count": 6,
   "metadata": {},
   "outputs": [],
   "source": [
    "# [Answer to Ex. 3.2.3]\n",
    "\n",
    "import json\n",
    "\n",
    "with open('beers.json','w') as f:\n",
    "    f.write(json.dumps(data))"
   ]
  },
  {
   "cell_type": "markdown",
   "metadata": {},
   "source": [
    "<br>\n",
    "\n",
    "## Exercise Section 3.3: The DST API\n",
    "\n",
    "DST (Statistics Denmark) provide an API access to their aggregate data. For developers they supply a [console](https://api.statbank.dk/console) for testing. In this exercise we will first code up a simple script which can collect data from the DST API, and then introduce the [PyDST](https://kristianuruplarsen.github.io/PyDST/) package. \n",
    "\n",
    "> **Ex 3.3.1:** Use the API console to construct a GET request which retrieves the table FOLK1A split by quarter. The return should be in JSON format. We want all available dates.\n",
    ">\n",
    ">Then write a function `construct_link()` which takes as inputs: a table ID (e.g. `'FOLK1A'`) and a list of strings like `['var1=*', 'var2=somevalue']`. The function should return the proper URL for getting a dataset with the specified variables (e.g. in this case all levels of var1, but only where var2=somevalue).\n",
    "\n",
    "> _Hint:_ The time variable is called 'tid'. To select all available values, set the value-id to '*'. Spend a little time with the console to get a sense of how the URLs are constructed.\n"
   ]
  },
  {
   "cell_type": "code",
   "execution_count": 7,
   "metadata": {},
   "outputs": [
    {
     "data": {
      "text/plain": [
       "'https://api.statbank.dk/v1/data/FOLK1A/JSONSTAT?lang=en&Tid=*'"
      ]
     },
     "execution_count": 7,
     "metadata": {},
     "output_type": "execute_result"
    }
   ],
   "source": [
    "# [Answer to Ex. 3.3.1]\n",
    "\n",
    "# import PyDST\n",
    "\n",
    "# conn = PyDST.connection(language = 'en')\n",
    "\n",
    "# res = conn.get_tables('02')\n",
    "# res.info\n",
    "\n",
    "\n",
    "#Solution from teachers\n",
    "\n",
    "# This is the manually constructed link\n",
    "'https://api.statbank.dk/v1/data/FOLK1A/JSONSTAT?lang=en&Tid=*'\n",
    "\n",
    "# This function will do it for you\n",
    "def construct_link(table_id, variables):\n",
    "    base = 'https://api.statbank.dk/v1/data/{id}/JSONSTAT?lang=en'.format(id = table_id)\n",
    "    \n",
    "    for var in variables:\n",
    "        base += '&{v}'.format(v = var)\n",
    "\n",
    "    return base \n",
    "\n",
    "construct_link('FOLK1A', ['Tid=*'])\n",
    "\n",
    "\n",
    "\n"
   ]
  },
  {
   "cell_type": "markdown",
   "metadata": {},
   "source": [
    "When executing the request in the console you should get a json file as output. Next lets write some code to load these json files directly into python. \n",
    "\n",
    "\n",
    "> **Ex. 3.3.2:** use the `requests` module (get it with `pip install requests`) and `construct_link()` to request birth data from the \"FOD\" table. Get all available years (variable \"Tid\"), but only female births (BARNKON=P) . Unpack the json payload and store the result. Wrap the whole thing in a function which takes an url as input and returns the corresponding output.\n",
    "\n",
    "> _Hint:_ The `requests.response` object has a `.json()` method. "
   ]
  },
  {
   "cell_type": "code",
   "execution_count": 19,
   "metadata": {},
   "outputs": [],
   "source": [
    "# [Answer to Ex. 3.3.2]"
   ]
  },
  {
   "cell_type": "markdown",
   "metadata": {},
   "source": [
    "> **Ex. 3.3.3:** Extract the number of girls born each year. Store the results as a list."
   ]
  },
  {
   "cell_type": "code",
   "execution_count": 21,
   "metadata": {},
   "outputs": [],
   "source": [
    "# [Answer to Ex. 3.3.3]"
   ]
  },
  {
   "cell_type": "markdown",
   "metadata": {},
   "source": [
    "> **Ex.3.3.4:** Repeat 3.3.2 and 3.3.3 but this time only get boy births (BARNKON=D). Store the numbers in a new list and use the `plot_births` (supplied below) function to plot the data. If you don't already have matplotlib installed run `pip install matplotlib`."
   ]
  },
  {
   "cell_type": "code",
   "execution_count": 117,
   "metadata": {},
   "outputs": [],
   "source": [
    "# Just run this once, do not change it.\n",
    "import matplotlib.pyplot as plt \n",
    "\n",
    "def plot_births(boys, girls):\n",
    "    \"\"\" Plots lineplot of the number of births split by gender.\n",
    "    \n",
    "    Args: \n",
    "        boys: a list of boy births by year\n",
    "        girls: a list of girl births by year\n",
    "    \"\"\"\n",
    "    if not len(boys) == len(girls):\n",
    "        raise ValueError('There must be the same number of observations for boys and girls')\n",
    "    \n",
    "    labels = ['{y}'.format(y=year) for year in range(1973,2018)]\n",
    "    \n",
    "    plt.plot(range(len(boys)), boys, color = 'blue', label = 'boys')\n",
    "    plt.plot(range(len(boys)), girls, color = 'red', label = 'girls')\n",
    "    plt.xticks([i for i in range(len(boys)) if i%4 == 0], [l for i,l in zip(range(len(boys)),labels) if i%4 == 0],\n",
    "               rotation = 'vertical')\n",
    "    plt.legend()\n",
    "    plt.show()"
   ]
  },
  {
   "cell_type": "code",
   "execution_count": 24,
   "metadata": {},
   "outputs": [],
   "source": [
    "# [Answer to Ex. 3.3.4]"
   ]
  },
  {
   "cell_type": "markdown",
   "metadata": {},
   "source": [
    ">**(Bonus question) Ex. 3.3.5:** Go to [https://kristianuruplarsen.github.io/PyDST/](https://kristianuruplarsen.github.io/PyDST/) follow the installation instructions and import PyDST. Try to replicate the birth figure from 3.3.4 using PyDST. Use [the documentation](https://kristianuruplarsen.github.io/PyDST/connection) to learn how the package works.\n",
    "\n",
    "> _Hint:_ PyDST does not use json or dicts as its primary data format, instead it uses pandas DataFrames. When you install PyDST it will install pandas as a dependency. If this doesn't work simply run `pip install pandas` in your console. DataFrames are very intuitive to work with, for example accessing a column named 'name' is simply `data['name']` or `data.name`.\n",
    ">\n",
    "> In the next session you will learn more about pandas and DataFrames. If you are more comfortable with dicts, the data_response class has a `.dict` method you can use. "
   ]
  },
  {
   "cell_type": "code",
   "execution_count": 26,
   "metadata": {},
   "outputs": [],
   "source": [
    "# [Answer to Ex. 3.3.5]"
   ]
  }
 ],
 "metadata": {
  "kernelspec": {
   "display_name": "Python 3",
   "language": "python",
   "name": "python3"
  },
  "language_info": {
   "codemirror_mode": {
    "name": "ipython",
    "version": 3
   },
   "file_extension": ".py",
   "mimetype": "text/x-python",
   "name": "python",
   "nbconvert_exporter": "python",
   "pygments_lexer": "ipython3",
   "version": "3.7.3"
  }
 },
 "nbformat": 4,
 "nbformat_minor": 2
}
